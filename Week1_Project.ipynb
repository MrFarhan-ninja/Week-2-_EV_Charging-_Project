{
  "nbformat": 4,
  "nbformat_minor": 0,
  "metadata": {
    "colab": {
      "provenance": []
    },
    "kernelspec": {
      "name": "python3",
      "display_name": "Python 3"
    },
    "language_info": {
      "name": "python"
    }
  },
  "cells": [
    {
      "cell_type": "code",
      "execution_count": 10,
      "metadata": {
        "colab": {
          "base_uri": "https://localhost:8080/"
        },
        "id": "sHHxwpn0hiGS",
        "outputId": "166c6ce4-d295-4cdb-9881-eb2c9f9c78f3",
        "collapsed": true
      },
      "outputs": [
        {
          "output_type": "stream",
          "name": "stdout",
          "text": [
            "Model training complete and saved as forecasting_ev_model.pkl\n"
          ]
        }
      ],
      "source": [
        "# WEEK 2 - Forecasting EV Demand Model\n",
        "\n",
        "import pandas as pd\n",
        "import numpy as np\n",
        "from sklearn.linear_model import LinearRegression\n",
        "import joblib\n",
        "\n",
        "# Load the preprocessed CSV file\n",
        "df = pd.read_csv(\"preprocessed_ev_data.csv\")\n",
        "\n",
        "# Converts the \"Date\" column to actual datetime objects\n",
        "df['Date'] = pd.to_datetime(df['Date'], errors='coerce')\n",
        "\n",
        "# Removes rows where \"Date\" conversion failed\n",
        "df = df[df['Date'].notnull()]\n",
        "\n",
        "# Removes rows where the target (EV Total) is missing\n",
        "df = df[df['Electric Vehicle (EV) Total'].notnull()]\n",
        "\n",
        "# Fill missing values\n",
        "df['County'] = df['County'].fillna('Unknown')\n",
        "df['State'] = df['State'].fillna('Unknown')\n",
        "\n",
        "# Convert numeric columns that are objects\n",
        "cols_to_convert = [\"Battery Electric Vehicles (BEVs)\", \"Plug-In Hybrid Electric Vehicles (PHEVs)\", \"Electric Vehicle (EV) Total\", \"Non-Electric Vehicle Total\", \"Total Vehicles\"]\n",
        "for col in cols_to_convert:\n",
        "    df[col] = df[col].astype(str).str.replace(',', '', regex=False)\n",
        "    df[col] = pd.to_numeric(df[col], errors='coerce')\n",
        "\n",
        "# Drop rows where numeric conversion failed\n",
        "df.dropna(subset=cols_to_convert, inplace=True)\n",
        "\n",
        "# Define outlier boundaries (using previously calculated Q1, Q3, IQR)\n",
        "# Re-calculate Q1, Q3, IQR after converting columns to numeric\n",
        "Q1 = df['Percent Electric Vehicles'].quantile(0.25)\n",
        "Q3 = df['Percent Electric Vehicles'].quantile(0.75)\n",
        "IQR = Q3 - Q1\n",
        "lower_bound = Q1 - 1.5 * IQR\n",
        "upper_bound = Q3 + 1.5 * IQR\n",
        "\n",
        "# Cap the outliers\n",
        "df['Percent Electric Vehicles'] = np.where(df['Percent Electric Vehicles'] > upper_bound, upper_bound,\n",
        "                                 np.where(df['Percent Electric Vehicles'] < lower_bound, lower_bound, df['Percent Electric Vehicles']))\n",
        "\n",
        "\n",
        "# Save the preprocessed data\n",
        "df.to_csv(\"preprocessed_ev_data.csv\", index=False)\n",
        "\n",
        "# Load the preprocessed CSV file\n",
        "df = pd.read_csv(\"preprocessed_ev_data.csv\")\n",
        "\n",
        "# Select features (X) and target (y)\n",
        "X = df[[\"Battery Electric Vehicles (BEVs)\", \"Plug-In Hybrid Electric Vehicles (PHEVs)\"]]\n",
        "y = df[\"Electric Vehicle (EV) Total\"]\n",
        "\n",
        "# Train the model\n",
        "model = LinearRegression()\n",
        "model.fit(X, y)\n",
        "\n",
        "# Save the model\n",
        "joblib.dump(model, \"forecasting_ev_model.pkl\")\n",
        "\n",
        "print(\"Model training complete and saved as forecasting_ev_model.pkl\")"
      ]
    },
    {
      "cell_type": "code",
      "source": [],
      "metadata": {
        "id": "uB5BaAHyiIb3"
      },
      "execution_count": null,
      "outputs": []
    }
  ]
}